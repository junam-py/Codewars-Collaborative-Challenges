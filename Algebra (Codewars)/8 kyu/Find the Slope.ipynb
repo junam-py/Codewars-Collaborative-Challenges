{
 "cells": [
  {
   "cell_type": "markdown",
   "metadata": {},
   "source": [
    "# Find the Slope\n",
    "Juan Manuel González Kapnik - just-juanma\n",
    "\n",
    "2024/02/20"
   ]
  },
  {
   "cell_type": "markdown",
   "metadata": {},
   "source": [
    "## Description\n",
    "Given an array of 4 integers\n",
    "`[a,b,c,d]` representing two points `(a, b)` and `(c, d)`, return a string representation of the slope of the line joining these two points.\n",
    "\n",
    "For an undefined slope (division by 0), return `undefined` . Note that the \"undefined\" is case-sensitive."
   ]
  },
  {
   "cell_type": "markdown",
   "metadata": {},
   "source": [
    "## Explanation\n",
    "The formula for calculating the slope is:\n",
    "$$m=\\frac{\\triangle y}{\\triangle x}=\\frac{y_2-y_1}{x_2-x_1}$$\n",
    "\n",
    "We should check that \n",
    "$$x_2-x_1 \\neq 0$$"
   ]
  },
  {
   "cell_type": "markdown",
   "metadata": {},
   "source": [
    "## Solution"
   ]
  },
  {
   "cell_type": "code",
   "execution_count": 8,
   "metadata": {},
   "outputs": [],
   "source": [
    "def find_slope(points):\n",
    "    if points[2] - points[0] == 0:\n",
    "        return \"undefined\"\n",
    "    return str((points[3] - points[1]) // (points[2] - points[0]))"
   ]
  },
  {
   "cell_type": "markdown",
   "metadata": {},
   "source": [
    "## Sample Test"
   ]
  },
  {
   "cell_type": "code",
   "execution_count": 9,
   "metadata": {},
   "outputs": [
    {
     "name": "stdout",
     "output_type": "stream",
     "text": [
      "\n",
      "<DESCRIBE::>Fixed Tests\n",
      "\n",
      "<IT::>Basic Test Cases\n",
      "\n",
      "<PASSED::>Test Passed\n",
      "\n",
      "<PASSED::>Test Passed\n",
      "\n",
      "<PASSED::>Test Passed\n",
      "\n",
      "<PASSED::>Test Passed\n",
      "\n",
      "<PASSED::>Test Passed\n",
      "\n",
      "<COMPLETEDIN::>2.57\n",
      "\n",
      "<COMPLETEDIN::>5.23\n"
     ]
    }
   ],
   "source": [
    "import codewars_test as test\n",
    "#from solution import find_slope\n",
    "\n",
    "@test.describe(\"Fixed Tests\")\n",
    "def fixed_tests():\n",
    "    @test.it('Basic Test Cases')\n",
    "    def basic_test_cases():\n",
    "        test.assert_equals(find_slope([19,3,20,3]),\"0\")\n",
    "        test.assert_equals(find_slope([-7,2,-7,4]),\"undefined\")\n",
    "        test.assert_equals(find_slope([10,50,30,150]),\"5\")\n",
    "        test.assert_equals(find_slope([10,20,20,80]),\"6\")\n",
    "        test.assert_equals(find_slope([-10,6,-10,3]),\"undefined\")"
   ]
  }
 ],
 "metadata": {
  "kernelspec": {
   "display_name": "Python 3",
   "language": "python",
   "name": "python3"
  },
  "language_info": {
   "codemirror_mode": {
    "name": "ipython",
    "version": 3
   },
   "file_extension": ".py",
   "mimetype": "text/x-python",
   "name": "python",
   "nbconvert_exporter": "python",
   "pygments_lexer": "ipython3",
   "version": "3.11.8"
  }
 },
 "nbformat": 4,
 "nbformat_minor": 2
}
