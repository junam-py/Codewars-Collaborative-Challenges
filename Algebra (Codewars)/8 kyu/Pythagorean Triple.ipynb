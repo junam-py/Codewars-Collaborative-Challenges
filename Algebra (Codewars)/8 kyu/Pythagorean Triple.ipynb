{
 "cells": [
  {
   "cell_type": "markdown",
   "metadata": {},
   "source": [
    "# Pythagorean Triple\n",
    "Juan Manuel González Kapnik - just-juanma \n",
    "\n",
    "2024/02/18"
   ]
  },
  {
   "cell_type": "markdown",
   "metadata": {},
   "source": [
    "## Description\n",
    "Given an **unsorted** array of 3 positive integers `[ n1, n2, n3 ]`, determine if it is possible to form a Pythagorean Triple using those 3 integers.\n",
    "\n",
    "A [Pythagorean Triple](https://en.wikipedia.org/wiki/Pythagorean_triple) consists of arranging 3 integers, such that:\n",
    "\n",
    "$$a^2+b^2=c^2$$\n",
    "\n",
    "**Examples**\n",
    "\n",
    "[5,3,4]: it **is possible** to form a Pythagorean Triple using these 3 integers: $3^2+4^2=5^2$\n",
    "\n",
    "[3, 4, 5] : it **is possible** to form a Pythagorean Triple using these 3 integers: $3^2+4^2=5^2$\n",
    "\n",
    "[13, 12, 5] : it **is possible** to form a Pythagorean Triple using these 3 integers: $5^2+12^2=13^2$\n",
    "\n",
    "[100, 3, 999] : it **is NOT possible** to form a Pythagorean Triple using these 3 integers - no matter how you arrange them, you will never find a way to satisfy the equation $a^2+b^2=c^2$\n",
    "\n",
    "**Return Values**\n",
    "\n",
    "* For Python: return `True` or `False`\n",
    "* For JavaScript: return `true`or `false`\n",
    "* Other languages: return `1` or `0` or refer to Sample Tests."
   ]
  },
  {
   "cell_type": "markdown",
   "metadata": {},
   "source": [
    "## Explanation\n",
    "Looking at the first two examples we can notice that, independent of the order of the array: \n",
    "$$c=max(a,b,c)$$\n",
    "That will be the only calculation to solve due to the commutative property of addition, since it doesn't matter who we assign as a or b in the sum:\n",
    "$$a^2+b^2=b^2+a^2=max(a,b,c)$$"
   ]
  },
  {
   "cell_type": "markdown",
   "metadata": {},
   "source": [
    "## Solution"
   ]
  },
  {
   "cell_type": "code",
   "execution_count": 6,
   "metadata": {},
   "outputs": [],
   "source": [
    "# input is an unsorted list of 3 positive integers\n",
    "def pythagorean_triple(integers):\n",
    "    c = max(integers)\n",
    "    integers.remove(c)\n",
    "    if integers[0] ** 2 + integers[1] ** 2 == c ** 2:\n",
    "        return True\n",
    "    return False"
   ]
  },
  {
   "cell_type": "markdown",
   "metadata": {},
   "source": [
    "## Sample Test"
   ]
  },
  {
   "cell_type": "code",
   "execution_count": 7,
   "metadata": {},
   "outputs": [
    {
     "name": "stdout",
     "output_type": "stream",
     "text": [
      "\n",
      "<DESCRIBE::>Fixed tests\n",
      "\n",
      "<IT::>Should obtain correct result in fixed tests\n",
      "\n",
      "<FAILED::>Unexpected exception raised\n",
      "\n",
      "<ERROR::>Traceback (most recent call last):<:LF:>  File \"C:\\Users\\Juanma\\AppData\\Local\\Packages\\PythonSoftwareFoundation.Python.3.11_qbz5n2kfra8p0\\LocalCache\\local-packages\\Python311\\site-packages\\codewars_test\\test_framework.py\", line 112, in wrapper<:LF:>    func()<:LF:>  File \"C:\\Users\\Juanma\\AppData\\Local\\Temp\\ipykernel_13152\\1475612452.py\", line 8, in test_pyth_triple_fixed<:LF:>    test.assert_equals(pythagorean_triple([3,4,5]), True, \"Returned solution incorrect - [3,4,5] can form a Pythagorean Triple: 3**2 + 4**2 == 5**2\")<:LF:>                       ^^^^^^^^^^^^^^^^^^^^^^^^^^^<:LF:>  File \"C:\\Users\\Juanma\\AppData\\Local\\Temp\\ipykernel_13152\\3130013090.py\", line 5, in pythagorean_triple<:LF:>    if integers.index[0] ** 2 + integers[1] ** 2 == c ** 2:<:LF:>       ~~~~~~~~~~~~~~^^^<:LF:>TypeError: 'builtin_function_or_method' object is not subscriptable<:LF:>\n",
      "\n",
      "<COMPLETEDIN::>1.61\n",
      "\n",
      "<COMPLETEDIN::>2.73\n"
     ]
    }
   ],
   "source": [
    "import codewars_test as test\n",
    "\n",
    "@test.describe(\"Fixed tests\")\n",
    "def tests():\n",
    "        \n",
    "    @test.it(\"Should obtain correct result in fixed tests\")\n",
    "    def test_pyth_triple_fixed():\n",
    "        test.assert_equals(pythagorean_triple([3,4,5]), True, \"Returned solution incorrect - [3,4,5] can form a Pythagorean Triple: 3**2 + 4**2 == 5**2\")\n",
    "        test.assert_equals(pythagorean_triple([5,3,4]), True, \"Returned solution incorrect - [5,3,4] can form a Pythagorean Triple: 3**2 + 4**2 == 5**2\")\n",
    "        test.assert_equals(pythagorean_triple([13,12,5]), True, \"Returned solution incorrect - [13,12,5] can form a Pythagorean Triple: 5**2 + 12**2 == 13**2\")\n",
    "        test.assert_equals(pythagorean_triple([100,3,999]), False, \"Returned solution incorrect - there is no way to form a Pythagorean Triple using [100,3,999]\")"
   ]
  }
 ],
 "metadata": {
  "kernelspec": {
   "display_name": "Python 3",
   "language": "python",
   "name": "python3"
  },
  "language_info": {
   "codemirror_mode": {
    "name": "ipython",
    "version": 3
   },
   "file_extension": ".py",
   "mimetype": "text/x-python",
   "name": "python",
   "nbconvert_exporter": "python",
   "pygments_lexer": "ipython3",
   "version": "3.11.8"
  }
 },
 "nbformat": 4,
 "nbformat_minor": 2
}
