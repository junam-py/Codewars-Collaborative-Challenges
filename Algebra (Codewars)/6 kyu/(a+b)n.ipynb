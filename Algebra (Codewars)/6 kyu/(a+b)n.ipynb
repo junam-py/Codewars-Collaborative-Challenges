{
 "cells": [
  {
   "cell_type": "markdown",
   "metadata": {},
   "source": [
    "# (a+b)^n\n",
    "\n",
    "Juan Manuel González Kapnik - just-juanma\n",
    "\n",
    "2024/03/16"
   ]
  },
  {
   "cell_type": "markdown",
   "metadata": {},
   "source": [
    "## Description\n",
    "Similar but fairly harder version : [Linked](https://www.codewars.com/kata/540d0fdd3b6532e5c3000b5b)\n",
    "\n",
    "Create a function that takes a integer number `n` and returns the formula for $(a+b)^n$ as a string. **(Input --> Output)**\n",
    "\n",
    "```\n",
    "0  --> \"1\"\n",
    "1  --> \"a+b\"\n",
    "2  --> \"a^2+2ab+b^2\"\n",
    "-2 --> \"1/(a^2+2ab+b^2)\"\n",
    "3  --> \"a^3+3a^2b+3ab^2+b^3\"\n",
    "5  --> \"a^5+5a^4b+10a^3b^2+10a^2b^3+5ab^4+b^5\"\n",
    "```\n",
    "The formula for n=5 is like so:\n",
    "$$a^5+5a^4b+10a^3b^2+10a^2b^3+5ab^4+b^5$$\n",
    "So the answer would look like so :\n",
    "`a^5+5a^4b+10a^3b^2+10a^2b^3+5ab^4+b^5`\n",
    "\n",
    "### Important notes :\n",
    "* Your string may not have spaces so you can't do this : `a^5 + 5a^4 b + 10a^3 b^2...`\n",
    "* You will show raised to power of by `^` and not using `**`.\n",
    "* You need not put `*` between each multiplication\n",
    "* There is no need to show `a^1` or `b^1` since that is basically `a` and `b`\n",
    "* `a^0` and/or `b^0` also don't need be shown instead be a normal person and use `1` since that is what they equate to.\n",
    "* You will need to handle both `positive and negative numbers + 0`\n",
    "* Note :\n",
    "$$a^{-n}=\\frac{1}{a^n}$$\n",
    "* You will not be tested for float (only negative integers and whole numbers)\n",
    "* input `n` goes from -200 to 200."
   ]
  },
  {
   "cell_type": "markdown",
   "metadata": {},
   "source": [
    "## Explanation\n",
    "We know that if\n",
    "$$(a+b)^0=1$$\n",
    "Also\n",
    "$$(a+b)^1=a+b$$\n",
    "And finally\n",
    "$$(a+b)^{-n}=\\frac{1}{(a+b)^{|n|}}$$\n",
    "Once these conditionals have been checked, we will move on to the formula\n",
    "\n",
    "Using the formula for calculating this coefficient, the following equation is obtained:\n",
    "$$(a+b)^n=\\sum_{k=0}^n \\frac{n!}{k!(n-k)!}a^{n-k}b^k$$\n",
    "Where\n",
    "1. The coefficient could be calculated in an auxiliary function that divides numerator and denominator.\n",
    "2. Calculate the factorial could be a recursive function where given a number `q` we want to calculate its factorial:\n",
    "$$q*(factorial(n-1))$$\n",
    "3. The rest conforms to the output format of the string, taking into consideration the important notes\n"
   ]
  },
  {
   "cell_type": "markdown",
   "metadata": {},
   "source": [
    "## Solution"
   ]
  },
  {
   "cell_type": "code",
   "execution_count": 16,
   "metadata": {},
   "outputs": [],
   "source": [
    "def formula(n):\n",
    "    if n == 0:\n",
    "        return '1'\n",
    "    elif n == 1:\n",
    "        return 'a+b'\n",
    "    elif n < 0:\n",
    "        return '1/(' + formula(abs(n)) + ')'\n",
    "    else:\n",
    "        result = ''\n",
    "        for k in range(n + 1):\n",
    "            coefficient = nCr(n, k)\n",
    "            if coefficient > 1:\n",
    "                result += f'{coefficient}'\n",
    "            if n - k == 1:\n",
    "                result += 'a'\n",
    "            elif n - k > 1:\n",
    "                result += f'a^{n-k}'\n",
    "            if k == 1:\n",
    "                result += 'b'\n",
    "            elif k > 1:\n",
    "                result += f'b^{k}'\n",
    "            if k < n:\n",
    "                result += '+'\n",
    "    return result\n",
    "\n",
    "def nCr(n, k):\n",
    "    return factorial(n) // (factorial(k) * factorial(n - k))\n",
    "\n",
    "def factorial(q):\n",
    "    if q == 0:\n",
    "        return 1\n",
    "    return q * factorial(q - 1)\n"
   ]
  },
  {
   "cell_type": "markdown",
   "metadata": {},
   "source": [
    "## Sample Test\n",
    "Paste the tests offered by the exercise, those that are not hidden"
   ]
  },
  {
   "cell_type": "code",
   "execution_count": 15,
   "metadata": {},
   "outputs": [
    {
     "name": "stdout",
     "output_type": "stream",
     "text": [
      "\n",
      "<DESCRIBE::>Example\n",
      "\n",
      "<IT::>test case\n",
      "\n",
      "<PASSED::>Test Passed\n",
      "\n",
      "<PASSED::>Test Passed\n",
      "\n",
      "<PASSED::>Test Passed\n",
      "\n",
      "<PASSED::>Test Passed\n",
      "\n",
      "<PASSED::>Test Passed\n",
      "\n",
      "<PASSED::>Test Passed\n",
      "\n",
      "<PASSED::>Test Passed\n",
      "\n",
      "<PASSED::>Test Passed\n",
      "\n",
      "<COMPLETEDIN::>7.60\n",
      "\n",
      "<COMPLETEDIN::>9.18\n"
     ]
    }
   ],
   "source": [
    "import codewars_test as test\n",
    "\n",
    "@test.describe(\"Example\")\n",
    "def test_group():\n",
    "    @test.it(\"test case\")\n",
    "    def test_case():\n",
    "        test.assert_equals(formula(0), \"1\")\n",
    "        test.assert_equals(formula(1), \"a+b\")\n",
    "        test.assert_equals(formula(2), \"a^2+2ab+b^2\")\n",
    "        test.assert_equals(formula(3), \"a^3+3a^2b+3ab^2+b^3\")\n",
    "        test.assert_equals(formula(5), \"a^5+5a^4b+10a^3b^2+10a^2b^3+5ab^4+b^5\")\n",
    "        test.assert_equals(formula(-1), \"1/(a+b)\")\n",
    "        test.assert_equals(formula(-2), \"1/(a^2+2ab+b^2)\")\n",
    "        test.assert_equals(formula(-4), \"1/(a^4+4a^3b+6a^2b^2+4ab^3+b^4)\")\n"
   ]
  }
 ],
 "metadata": {
  "kernelspec": {
   "display_name": "Python 3",
   "language": "python",
   "name": "python3"
  },
  "language_info": {
   "codemirror_mode": {
    "name": "ipython",
    "version": 3
   },
   "file_extension": ".py",
   "mimetype": "text/x-python",
   "name": "python",
   "nbconvert_exporter": "python",
   "pygments_lexer": "ipython3",
   "version": "3.11.8"
  }
 },
 "nbformat": 4,
 "nbformat_minor": 2
}
