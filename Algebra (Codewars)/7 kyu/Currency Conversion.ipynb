{
 "cells": [
  {
   "cell_type": "markdown",
   "metadata": {},
   "source": [
    "# Currency Conversion\n",
    "Juan Manuel González Kapnik - just-juanma\n",
    "\n",
    "2024/03/02"
   ]
  },
  {
   "cell_type": "markdown",
   "metadata": {},
   "source": [
    "## Description\n",
    "You are currently in the United States of America. The main currency here is known as the United States Dollar (USD). You are planning to travel to another country for vacation, so you make it today's goal to convert your USD (all bills, no cents) into the appropriate currency. This will help you be more prepared for when you arrive in the country you will be vacationing in.\n",
    "\n",
    "Given an integer (`usd`) representing the amount of dollars you have and a string (`currency`) representing the name of the currency used in another country, it is your task to determine the amount of foreign currency you will receive when you exchange your United States Dollars.\n",
    "\n",
    "However, there is one minor issue to deal with first. The screens and monitors at the Exchange are messed up. Some conversion rates are correctly presented, but other conversion rates are incorrectly presented. For some countries, they are temporarily displaying the standard conversion rate in the form of a number's binary representation!\n",
    "\n",
    "You make some observations. If a country's currency begins with a vowel, then the conversion rate is unaffected by the technical difficulties. If a country's currency begins with a consonant, then the conversion rate has been tampered with.\n",
    "\n",
    "Normally, the display would show 1 USD converting to 111 Japanese Yen. Instead, the display is showing 1 USD converts to 1101111 Japanese Yen. You take it upon yourself to sort this out. By doing so, your 250 USD rightfully becomes 27750 Japanese Yen.\n",
    "\n",
    "`function(250, \"Japanese Yen\") => \"You now have 27750 of Japanese Yen.\"`\n",
    "\n",
    "Normally, the display would show 1 USD converting to 21 Czech Koruna. Instead, the display is showing 1 USD converts to 10101 Czech Koruna. You take it upon yourself to sort this out. By doing so, your 325 USD rightfully becomes 6825 Czech Koruna.\n",
    "\n",
    "`function(325, \"Czech Koruna\") => \"You now have 6825 of Czech Koruna.\"`\n",
    "\n",
    "Using your understanding of converting currencies in conjunction with the preloaded conversion-rates table, properly convert your dollars into the correct amount of foreign currency."
   ]
  },
  {
   "cell_type": "markdown",
   "metadata": {},
   "source": [
    "## Explanation\n",
    "Making rule of 3:\n",
    "$$conversion=usd \\cdot currency$$\n",
    "And, depending on the currency, before making the count we must convert the number to decimal that although it is not in the solution, I am going to detail how the count would be made by hand:\n",
    "$$11001_2\\to 2^4+2^3+2^1=25$$"
   ]
  },
  {
   "cell_type": "markdown",
   "metadata": {},
   "source": [
    "## Solution"
   ]
  },
  {
   "cell_type": "code",
   "execution_count": 1,
   "metadata": {},
   "outputs": [],
   "source": [
    "def convert_my_dollars(usd, currency):\n",
    "    if currency[0] in \"AEIOU\":\n",
    "        return f\"You now have {usd * CONVERSION_RATES[currency]} of {currency}.\"\n",
    "    else:\n",
    "        return f\"You now have {usd * int(str(CONVERSION_RATES[currency]), 2)} of {currency}.\""
   ]
  },
  {
   "cell_type": "markdown",
   "metadata": {},
   "source": [
    "## Sample Test\n",
    "Paste the tests offered by the exercise, those that are not hidden"
   ]
  },
  {
   "cell_type": "code",
   "execution_count": 3,
   "metadata": {},
   "outputs": [
    {
     "name": "stdout",
     "output_type": "stream",
     "text": [
      "\n",
      "<DESCRIBE::>Basic Tests\n",
      "\n",
      "<IT::>\n",
      "\n",
      "<COMPLETEDIN::>0.00\n",
      "\n",
      "<COMPLETEDIN::>3.03\n"
     ]
    }
   ],
   "source": [
    "import codewars_test as test\n",
    "from preloaded import CONVERSION_RATES\n",
    "\n",
    "@test.describe(\"Fixed Tests\")\n",
    "def fixed_tests():\n",
    "    @test.it('Basic Test Cases')\n",
    "    def basic_test_cases():\n",
    "        test.assert_equals(convert_my_dollars(7, \"Armenian Dram\"), \"You now have 3346 of Armenian Dram.\")\n",
    "        test.assert_equals(convert_my_dollars(322, \"Armenian Dram\"), \"You now have 153916 of Armenian Dram.\")\n",
    "        test.assert_equals(convert_my_dollars(25, \"Bangladeshi Taka\"), \"You now have 2050 of Bangladeshi Taka.\")\n",
    "        test.assert_equals(convert_my_dollars(730, \"Bangladeshi Taka\"), \"You now have 59860 of Bangladeshi Taka.\")\n",
    "        test.assert_equals(convert_my_dollars(37, \"Croatian Kuna\"), \"You now have 222 of Croatian Kuna.\")\n",
    "        test.assert_equals(convert_my_dollars(40, \"Croatian Kuna\"), \"You now have 240 of Croatian Kuna.\")\n",
    "        test.assert_equals(convert_my_dollars(197, \"Czech Koruna\"), \"You now have 4137 of Czech Koruna.\")\n",
    "        test.assert_equals(convert_my_dollars(333, \"Czech Koruna\"), \"You now have 6993 of Czech Koruna.\")\n",
    "        test.assert_equals(convert_my_dollars(768, \"Dominican Peso\"), \"You now have 36864 of Dominican Peso.\")\n",
    "        test.assert_equals(convert_my_dollars(983, \"Dominican Peso\"), \"You now have 47184 of Dominican Peso.\")"
   ]
  }
 ],
 "metadata": {
  "kernelspec": {
   "display_name": "Python 3",
   "language": "python",
   "name": "python3"
  },
  "language_info": {
   "codemirror_mode": {
    "name": "ipython",
    "version": 3
   },
   "file_extension": ".py",
   "mimetype": "text/x-python",
   "name": "python",
   "nbconvert_exporter": "python",
   "pygments_lexer": "ipython3",
   "version": "3.11.8"
  }
 },
 "nbformat": 4,
 "nbformat_minor": 2
}
