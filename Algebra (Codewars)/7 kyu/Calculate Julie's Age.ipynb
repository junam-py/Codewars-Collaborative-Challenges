{
 "cells": [
  {
   "cell_type": "markdown",
   "metadata": {},
   "source": [
    "# Calculate Julie's Age\n",
    "Juan Manuel González Kapnik - just-juanma\n",
    "\n",
    "2024/02/26"
   ]
  },
  {
   "cell_type": "markdown",
   "metadata": {},
   "source": [
    "## Description\n",
    "Julie is x years older than her brother, and she is also y times as old as him.\n",
    "\n",
    "Given x and y calculate Julie's age using the function age(x, y).\n",
    "\n",
    "For example:\n",
    "```\n",
    "age(6, 3) #returns 9\n",
    "```\n",
    "Note also that x can be negative, and y can be a decimal.\n",
    "```\n",
    "age(-15, 0.25) #returns 9\n",
    "```\n",
    "That is, Julie is 15 years younger and 0.25 times the age of her brother.\n",
    "\n",
    "Do not concern yourself with the imperfections inherent in dividing by floating point numbers, as your answer will be rounded. Also, for the sake of simplicity, Julie is never the same age as her brother."
   ]
  },
  {
   "cell_type": "markdown",
   "metadata": {},
   "source": [
    "## Explanation\n",
    "We know that Julie is x times older than her brother. That is to say:\n",
    "$$x+b_a=j_a$$\n",
    "being $b_a$ brother's age, and $j_a$ Julie's age\n",
    "\n",
    "We also know that Julia will be many times older than her brother. That is to say:\n",
    "$$y*b_a=j_a$$\n",
    "\n",
    "We are left with a system of equations with 2 equations and 2 unknowns, perfectly solvable:\n",
    "\n",
    "$$\\begin{equation}\n",
    "\\left\\lbrace\n",
    "\\begin{array}{ll}\n",
    "\\textup x+b_a=j_a \\space (I)\\\\\n",
    "\\textup y*b_a=j_a \\space (II)\n",
    "\\end{array}\n",
    "\\right.\n",
    "\\end{equation}$$\n",
    "\n",
    "We can equalize both equations and clear b_a:\n",
    "$$x+b_a=y*b_a\\to x=y*b_a-b_a\\to x=b_a*(y-1)\\to \\frac{x}{y-1}=b_a$$\n",
    "\n",
    "Replace b_a in (II):\n",
    "$$y*(\\frac{x}{y-1})=j_a$$"
   ]
  },
  {
   "cell_type": "markdown",
   "metadata": {},
   "source": [
    "## Solution"
   ]
  },
  {
   "cell_type": "code",
   "execution_count": 2,
   "metadata": {},
   "outputs": [],
   "source": [
    "def age(x, y):\n",
    "    return y * x / (y-1)"
   ]
  },
  {
   "cell_type": "markdown",
   "metadata": {},
   "source": [
    "## Sample Test"
   ]
  },
  {
   "cell_type": "code",
   "execution_count": 3,
   "metadata": {},
   "outputs": [
    {
     "name": "stdout",
     "output_type": "stream",
     "text": [
      "\n",
      "<DESCRIBE::>Fixed Tests\n",
      "\n",
      "<IT::>Basic Test Cases\n",
      "\n",
      "<PASSED::>Test Passed\n",
      "\n",
      "<PASSED::>Test Passed\n",
      "\n",
      "<COMPLETEDIN::>1.74\n",
      "\n",
      "<COMPLETEDIN::>3.44\n"
     ]
    }
   ],
   "source": [
    "import codewars_test as test\n",
    "\n",
    "@test.describe(\"Fixed Tests\")\n",
    "def fixed_tests():\n",
    "    @test.it('Basic Test Cases')\n",
    "    def basic_test_cases():\n",
    "        test.assert_approx_equals(age(-15, 0.25), 5, margin=1e-4)\n",
    "        test.assert_approx_equals(age(6, 3), 9, margin=1e-4)"
   ]
  }
 ],
 "metadata": {
  "kernelspec": {
   "display_name": "Python 3",
   "language": "python",
   "name": "python3"
  },
  "language_info": {
   "codemirror_mode": {
    "name": "ipython",
    "version": 3
   },
   "file_extension": ".py",
   "mimetype": "text/x-python",
   "name": "python",
   "nbconvert_exporter": "python",
   "pygments_lexer": "ipython3",
   "version": "3.11.8"
  }
 },
 "nbformat": 4,
 "nbformat_minor": 2
}
