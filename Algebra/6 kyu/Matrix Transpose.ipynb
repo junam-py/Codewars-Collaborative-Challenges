{
 "cells": [
  {
   "cell_type": "markdown",
   "metadata": {},
   "source": [
    "# Matrix Transpose\n",
    "Juan Manuel González Kapnik - just-juanma\n",
    "\n",
    "2024/03/09"
   ]
  },
  {
   "cell_type": "markdown",
   "metadata": {},
   "source": [
    "## Description\n",
    "Write a function that outputs the transpose of a matrix - a new matrix where the columns and rows of the original are swapped.\n",
    "\n",
    "For example, the transpose of:\n",
    "```\n",
    "| 1 2 3 |\n",
    "| 4 5 6 |\n",
    "```\n",
    "\n",
    "is\n",
    "\n",
    "```\n",
    "| 1 4 |\n",
    "| 2 5 |\n",
    "| 3 6 |\n",
    "```\n",
    "\n",
    "The input to your function will be an array of matrix rows. You can assume that each row has the same length, and that the height and width of the matrix are both positive."
   ]
  },
  {
   "cell_type": "markdown",
   "metadata": {},
   "source": [
    "## Explanation\n",
    "By definition:\n",
    "$$(A^t)_{ij}=A_{ji}$$"
   ]
  },
  {
   "cell_type": "markdown",
   "metadata": {},
   "source": [
    "## Solution"
   ]
  },
  {
   "cell_type": "code",
   "execution_count": 1,
   "metadata": {},
   "outputs": [],
   "source": [
    "def transpose(matrix):\n",
    "    rows = len(matrix)\n",
    "    columns = len(matrix[0])\n",
    "    \n",
    "    transposed = [[0] * rows for _ in range(columns)]\n",
    "    \n",
    "    for i in range(rows):\n",
    "        for j in range(columns):\n",
    "            transposed[j][i] = matrix[i][j]\n",
    "\n",
    "    return transposed"
   ]
  },
  {
   "cell_type": "markdown",
   "metadata": {},
   "source": [
    "## Sample Test\n",
    "Paste the tests offered by the exercise, those that are not hidden"
   ]
  },
  {
   "cell_type": "code",
   "execution_count": 2,
   "metadata": {},
   "outputs": [
    {
     "name": "stdout",
     "output_type": "stream",
     "text": [
      "\n",
      "<DESCRIBE::>Test case\n",
      "\n",
      "<IT::>Basic Test\n",
      "\n",
      "<PASSED::>Test Passed\n",
      "\n",
      "<PASSED::>Test Passed\n",
      "\n",
      "<PASSED::>Test Passed\n",
      "\n",
      "<PASSED::>Test Passed\n",
      "\n",
      "<COMPLETEDIN::>3.66\n",
      "\n",
      "<COMPLETEDIN::>8.09\n"
     ]
    }
   ],
   "source": [
    "import codewars_test as test\n",
    "\n",
    "@test.describe('Test case')\n",
    "def _():\n",
    "    @test.it('Basic Test')\n",
    "    def _():\n",
    "        test.assert_equals(transpose([[1]]), [[1]])\n",
    "        test.assert_equals(transpose([[1, 2, 3]]), [[1], [2], [3]])\n",
    "        test.assert_equals(transpose([[1, 2, 3], [4, 5, 6], [7, 8, 9]]),\n",
    "                           [[1, 4, 7], [2, 5, 8], [3, 6, 9]])\n",
    "        test.assert_equals(transpose([[1, 0, 0], [0, 1, 0], [0, 0, 1], [0, 1, 0], [1, 0, 0]]),\n",
    "                           [[1, 0, 0, 0, 1], [0, 1, 0, 1, 0], [0, 0, 1, 0, 0]])"
   ]
  }
 ],
 "metadata": {
  "kernelspec": {
   "display_name": "Python 3",
   "language": "python",
   "name": "python3"
  },
  "language_info": {
   "codemirror_mode": {
    "name": "ipython",
    "version": 3
   },
   "file_extension": ".py",
   "mimetype": "text/x-python",
   "name": "python",
   "nbconvert_exporter": "python",
   "pygments_lexer": "ipython3",
   "version": "3.11.8"
  }
 },
 "nbformat": 4,
 "nbformat_minor": 2
}
