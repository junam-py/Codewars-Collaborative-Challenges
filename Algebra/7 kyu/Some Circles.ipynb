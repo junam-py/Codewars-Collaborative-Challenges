{
 "cells": [
  {
   "cell_type": "markdown",
   "metadata": {},
   "source": [
    "# Some Circles\n",
    "Juan Manuel González Kapnik - just-juanma\n",
    "\n",
    "2024/03/01"
   ]
  },
  {
   "cell_type": "markdown",
   "metadata": {},
   "source": [
    "## Description\n",
    "Write a function that takes as its parameters *one or more numbers which are the diameters of circles.*\n",
    "\n",
    "The function should return the *total area of all the circles*, rounded to the nearest integer in a string that says \"We have this much circle: xyz\".\n",
    "\n",
    "You don't know how many circles you will be given, but you can assume it will be at least one.\n",
    "\n",
    "So:\n",
    "```\n",
    "sum_circles(2) == \"We have this much circle: 3\"\n",
    "sum_circles(2, 3, 4) == \"We have this much circle: 23\"\n",
    "```\n",
    "\n",
    "Translations and comments (and upvotes!) welcome!"
   ]
  },
  {
   "cell_type": "markdown",
   "metadata": {},
   "source": [
    "## Explanation\n",
    "We can define the area of a circle as:\n",
    "$$A=\\pi \\cdot r^2$$\n",
    "\n",
    "And the diameter can be defined as:\n",
    "$$d=2 \\cdot r \\to r=\\frac{d}{2}$$ \n",
    "\n",
    "Replacing in the first equation:\n",
    "$$A=\\pi \\cdot (\\frac{d}{2})^2\\to A=\\pi \\cdot \\frac{d^2}{4}$$\n",
    "\n",
    "Now, we will have to do this count for each diameter that you send us as a parameter\n",
    "\n",
    "$$A=(\\sum_{i=args[0]}^n \\pi \\cdot \\frac{d_i^2}{4})$$\n"
   ]
  },
  {
   "cell_type": "markdown",
   "metadata": {},
   "source": [
    "## Solution"
   ]
  },
  {
   "cell_type": "code",
   "execution_count": 2,
   "metadata": {},
   "outputs": [],
   "source": [
    "import math\n",
    "def sum_circles(*args):\n",
    "    area = 0\n",
    "    for diameter in args:\n",
    "     area = area + math.pi * (diameter ** 2) / 4\n",
    "    return \"We have this much circle: \" + str(round(area))"
   ]
  },
  {
   "cell_type": "markdown",
   "metadata": {},
   "source": [
    "## Sample Test\n",
    "Paste the tests offered by the exercise, those that are not hidden"
   ]
  },
  {
   "cell_type": "code",
   "execution_count": 5,
   "metadata": {},
   "outputs": [
    {
     "name": "stdout",
     "output_type": "stream",
     "text": [
      "\n",
      "<PASSED::>Test Passed\n",
      "\n",
      "<PASSED::>Test Passed\n",
      "\n",
      "<PASSED::>Test Passed\n",
      "\n",
      "<PASSED::>Test Passed\n",
      "\n",
      "<PASSED::>Test Passed\n"
     ]
    }
   ],
   "source": [
    "import codewars_test as test\n",
    "\n",
    "test.assert_equals(sum_circles(2), 'We have this much circle: 3');\n",
    "test.assert_equals(sum_circles(2, 3, 4), 'We have this much circle: 23')\n",
    "test.assert_equals(sum_circles(48, 7, 8, 9, 10), 'We have this much circle: 2040')\n",
    "test.assert_equals(sum_circles(1), 'We have this much circle: 1')\n",
    "test.assert_equals(sum_circles(1, 1, 1, 2, 3, 4, 5), 'We have this much circle: 45')"
   ]
  }
 ],
 "metadata": {
  "kernelspec": {
   "display_name": "Python 3",
   "language": "python",
   "name": "python3"
  },
  "language_info": {
   "codemirror_mode": {
    "name": "ipython",
    "version": 3
   },
   "file_extension": ".py",
   "mimetype": "text/x-python",
   "name": "python",
   "nbconvert_exporter": "python",
   "pygments_lexer": "ipython3",
   "version": "3.11.8"
  }
 },
 "nbformat": 4,
 "nbformat_minor": 2
}
