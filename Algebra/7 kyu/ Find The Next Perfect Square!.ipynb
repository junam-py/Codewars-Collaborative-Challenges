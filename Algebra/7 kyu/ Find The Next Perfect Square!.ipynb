{
 "cells": [
  {
   "cell_type": "markdown",
   "metadata": {},
   "source": [
    "# Find The Next Perfect Square!\n",
    "Juan Manuel González Kapnik - just-juanma\n",
    "\n",
    "2024/02/22"
   ]
  },
  {
   "cell_type": "markdown",
   "metadata": {},
   "source": [
    "## Description\n",
    "You might know some pretty large perfect squares. But what about the NEXT one?\n",
    "\n",
    "Complete the `findNextSquare` method that finds the next integral perfect square after the one passed as a parameter. Recall that an integral perfect square is an integer n such that sqrt(n) is also an integer.\n",
    "\n",
    "If the parameter is itself not a perfect square then `-1` should be returned. You may assume the parameter is non-negative.\n",
    "\n",
    "**Examples:(Input --> Output)**\n",
    "```\n",
    "121 --> 144\n",
    "625 --> 676\n",
    "114 --> -1 since 114 is not a perfect square\n",
    "``` "
   ]
  },
  {
   "cell_type": "markdown",
   "metadata": {},
   "source": [
    "## Explanation\n",
    "Taking $sqrt{sq} =b$ knowing that always $b>0$. If $b$ is an integer, we can say that it is a perfect square. To find the next one, we can add one to the base and we are done."
   ]
  },
  {
   "cell_type": "markdown",
   "metadata": {},
   "source": [
    "## Solution"
   ]
  },
  {
   "cell_type": "code",
   "execution_count": 2,
   "metadata": {},
   "outputs": [],
   "source": [
    "import math\n",
    "def find_next_square(sq):\n",
    "    sqrt = math.sqrt(sq)\n",
    "    if sqrt.is_integer():\n",
    "        return (sqrt + 1) ** 2\n",
    "    return -1"
   ]
  },
  {
   "cell_type": "markdown",
   "metadata": {},
   "source": [
    "## Sample Test\n",
    "Paste the tests offered by the exercise, those that are not hidden"
   ]
  },
  {
   "cell_type": "code",
   "execution_count": 3,
   "metadata": {},
   "outputs": [
    {
     "name": "stdout",
     "output_type": "stream",
     "text": [
      "\n",
      "<DESCRIBE::>Fixed Tests\n",
      "\n",
      "<IT::>should return the next square for perfect squares\n",
      "\n",
      "<PASSED::>Test Passed\n",
      "\n",
      "<PASSED::>Test Passed\n",
      "\n",
      "<PASSED::>Test Passed\n",
      "\n",
      "<PASSED::>Test Passed\n",
      "\n",
      "<COMPLETEDIN::>20.12\n",
      "\n",
      "<IT::>should return -1 for numbers which aren't perfect squares\n",
      "\n",
      "<PASSED::>Test Passed\n",
      "\n",
      "<PASSED::>Test Passed\n",
      "\n",
      "<COMPLETEDIN::>9.01\n",
      "\n",
      "<COMPLETEDIN::>53.89\n"
     ]
    }
   ],
   "source": [
    "import codewars_test as test\n",
    "\n",
    "@test.describe(\"Fixed Tests\")\n",
    "def fixed_tests():\n",
    "    @test.it(\"should return the next square for perfect squares\")\n",
    "    def basic_test_cases():\n",
    "        test.assert_equals(find_next_square(121), 144, \"Wrong output for 121\")\n",
    "        test.assert_equals(find_next_square(625), 676, \"Wrong output for 625\")\n",
    "        test.assert_equals(find_next_square(319225), 320356, \"Wrong output for 319225\")\n",
    "        test.assert_equals(find_next_square(15241383936), 15241630849, \"Wrong output for 15241383936\")\n",
    "\n",
    "    @test.it(\"should return -1 for numbers which aren't perfect squares\")\n",
    "    def _():\n",
    "        test.assert_equals(find_next_square(155), -1, \"Wrong output for 155\")\n",
    "        test.assert_equals(find_next_square(342786627), -1, \"Wrong output for 342786627\")"
   ]
  }
 ],
 "metadata": {
  "kernelspec": {
   "display_name": "Python 3",
   "language": "python",
   "name": "python3"
  },
  "language_info": {
   "codemirror_mode": {
    "name": "ipython",
    "version": 3
   },
   "file_extension": ".py",
   "mimetype": "text/x-python",
   "name": "python",
   "nbconvert_exporter": "python",
   "pygments_lexer": "ipython3",
   "version": "3.10.12"
  }
 },
 "nbformat": 4,
 "nbformat_minor": 2
}
