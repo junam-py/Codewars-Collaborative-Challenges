{
 "cells": [
  {
   "cell_type": "markdown",
   "metadata": {},
   "source": [
    "# Converting Currency II\n",
    "Juan Manuel González Kapnik- just-juanma\n",
    "\n",
    "2024/03/03"
   ]
  },
  {
   "cell_type": "markdown",
   "metadata": {},
   "source": [
    "## Description\n",
    "Given the current exchange rate between the USD and the EUR is 1.1363636 write a function that will accept the Curency type to be returned and a list of the amounts that need to be converted.\n",
    "\n",
    "Don't forget this is a currency so the result will need to be rounded to the second decimal.\n",
    "\n",
    "'USD' Return format should be `'$100,000.00'`\n",
    "\n",
    "'EUR' Return format for this kata should be `'100,000.00€'`\n",
    "\n",
    "`to_currency` is a string with values `'USD','EUR'` , `values_list` is a list of floats\n",
    "\n",
    "`solution(to_currency,values)`\n",
    "\n",
    "#EXAMPLES:\n",
    "```\n",
    "solution('USD',[1394.0, 250.85, 721.3, 911.25, 1170.67]) \n",
    "= ['$1,584.09', '$285.06', '$819.66', '$1,035.51', '$1,330.31']\n",
    "\n",
    "solution('EUR',[109.45, 640.31, 1310.99, 669.51, 415.54]) \n",
    "= ['96.32€', '563.47€', '1,153.67€', '589.17€', '365.68€']\n",
    "```\n",
    "\n",
    "\n"
   ]
  },
  {
   "cell_type": "markdown",
   "metadata": {},
   "source": [
    "## Explanation\n",
    "If `to_cur` is `'USD'`, I multiply by the constant given in the statement:\n",
    "$$\\prod_{i=0}^n x_i \\cdot c\\to[x_0,...,x_n]$$\n",
    "\n",
    "If `to_cur` is `'EUR'`, I multiply by the constant given in the statement:\n",
    "$$\\frac{\\prod_{i=0}^n x_i} {c}\\to[x_0,...,x_n]$$\n",
    "In addition, the output must be rounded to two decimal places, and formatted to a string that has the change symbol, with two decimal places and `','` where appropriate."
   ]
  },
  {
   "cell_type": "markdown",
   "metadata": {},
   "source": [
    "## Solution"
   ]
  },
  {
   "cell_type": "code",
   "execution_count": 1,
   "metadata": {},
   "outputs": [],
   "source": [
    "def solution(to_cur,value):\n",
    "    exchange = 1.1363636\n",
    "    if to_cur == 'USD':\n",
    "        return [f\"${round(element * exchange, 2):,.2f}\" for element in value]\n",
    "    else:\n",
    "        return[f\"{round(element / exchange, 2):,.2f}€\" for element in value]"
   ]
  },
  {
   "cell_type": "markdown",
   "metadata": {},
   "source": [
    "## Sample Test\n",
    "Paste the tests offered by the exercise, those that are not hidden"
   ]
  },
  {
   "cell_type": "code",
   "execution_count": 3,
   "metadata": {},
   "outputs": [
    {
     "name": "stdout",
     "output_type": "stream",
     "text": [
      "\n",
      "<DESCRIBE::>Basic Tests\n",
      "\n",
      "<IT::>\n",
      "\n",
      "<COMPLETEDIN::>0.00\n",
      "\n",
      "<COMPLETEDIN::>3.03\n"
     ]
    }
   ],
   "source": [
    "import codewars_test as test\n",
    "\n",
    "test.assert_equals(solution('USD',[1.01, 83.29, 5.0, 23.23, 724.22]),['$1.15', '$94.65', '$5.68', '$26.40', '$822.98'])\n",
    "test.assert_equals(solution('USD',[1394.0, 250.85, 721.3, 911.25, 1170.67]),['$1,584.09', '$285.06', '$819.66', '$1,035.51', '$1,330.31'])\n",
    "test.assert_equals(solution('EUR',[109.45, 640.31, 1310.99, 669.51, 415.54]),['96.32€', '563.47€', '1,153.67€', '589.17€', '365.68€'])\n",
    "test.assert_equals(solution('EUR',[589.29, 662.31, 1349.71, 117.93, 8.25]),['518.58€', '582.83€', '1,187.74€', '103.78€', '7.26€'])"
   ]
  }
 ],
 "metadata": {
  "kernelspec": {
   "display_name": "Python 3",
   "language": "python",
   "name": "python3"
  },
  "language_info": {
   "codemirror_mode": {
    "name": "ipython",
    "version": 3
   },
   "file_extension": ".py",
   "mimetype": "text/x-python",
   "name": "python",
   "nbconvert_exporter": "python",
   "pygments_lexer": "ipython3",
   "version": "3.11.8"
  }
 },
 "nbformat": 4,
 "nbformat_minor": 2
}
