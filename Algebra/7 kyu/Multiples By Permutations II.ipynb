{
 "cells": [
  {
   "cell_type": "markdown",
   "metadata": {},
   "source": [
    "# Multiples By Permutations II\n",
    "Juan Manuel González Kapnik - just-juanma\n",
    "2024/02/28"
   ]
  },
  {
   "cell_type": "markdown",
   "metadata": {},
   "source": [
    "## Description\n",
    "We have two consecutive integers k1 and k2, k2 = k1 + 1\n",
    "\n",
    "We need to calculate the lowest strictly positive integer `n`, such that: the values nk1 and nk2 have the same digits but in different order.\n",
    "\n",
    "E.g.# 1:\n",
    "```\n",
    "k1 = 100\n",
    "k2 = 101\n",
    "n = 8919\n",
    "#Because 8919 * 100 = 891900 \n",
    "and      8919 * 101 = 900819\n",
    "```\n",
    "\n",
    "E.g.# 2:\n",
    "```\n",
    "k1 = 325\n",
    "k2 = 326\n",
    "n = 477\n",
    "#Because 477 * 325 = 155025\n",
    "and      477 * 326 = 155502\n",
    "```\n",
    "\n",
    "Your task is to prepare a function that will receive the value of `k` and outputs the value of `n`.\n",
    "\n",
    "The examples given above will be:\n",
    "```\n",
    "find_lowest_int(100) === 8919\n",
    "find_lowest_int(325) ===  477\n",
    "```\n",
    "\n",
    "Features of the random tests\n",
    "```\n",
    "10 < k < 10.000.000.000.000.000 (For Python, Ruby and Haskell)\n",
    "10 < k < 1.000.000.000  (For Javascript and D 1e9)\n",
    "```\n",
    "\n",
    "Enjoy it!!"
   ]
  },
  {
   "cell_type": "markdown",
   "metadata": {},
   "source": [
    "## Explanation\n",
    "Once $k_0$ and $k_1$ are defined, we will perform the count with $n=1$ and pass the results to a sorted list, to see if they contain the same digits. if they do, the exercise ends. otherwise, we increase n"
   ]
  },
  {
   "cell_type": "markdown",
   "metadata": {},
   "source": [
    "## Solution"
   ]
  },
  {
   "cell_type": "code",
   "execution_count": 21,
   "metadata": {},
   "outputs": [],
   "source": [
    "def find_lowest_int(k):\n",
    "    k_0=k\n",
    "    k_1=k+1\n",
    "    n=1\n",
    "\n",
    "    while(True):\n",
    "        result_0=k_0*n\n",
    "        result_1=k_1*n\n",
    "        if (\n",
    "            sorted(list(str(result_0))) == sorted(list(str(result_1)))             \n",
    "        ):\n",
    "            return n\n",
    "        else:\n",
    "            n=n+1"
   ]
  },
  {
   "cell_type": "markdown",
   "metadata": {},
   "source": [
    "## Sample Test\n",
    "Paste the tests offered by the exercise, those that are not hidden"
   ]
  },
  {
   "cell_type": "code",
   "execution_count": 22,
   "metadata": {},
   "outputs": [
    {
     "name": "stdout",
     "output_type": "stream",
     "text": [
      "\n",
      "<DESCRIBE::>Fixed Tests\n",
      "\n",
      "<IT::>Some tests for small length\n",
      "\n",
      "<PASSED::>Test Passed\n",
      "\n",
      "<PASSED::>Test Passed\n",
      "\n",
      "<PASSED::>Test Passed\n",
      "\n",
      "<COMPLETEDIN::>7.03\n",
      "\n",
      "<IT::>Some Edge Cases\n",
      "\n",
      "<PASSED::>Test Passed\n",
      "\n",
      "<PASSED::>Test Passed\n",
      "\n",
      "<PASSED::>Test Passed\n",
      "\n",
      "<PASSED::>Test Passed\n",
      "\n",
      "<COMPLETEDIN::>1694.73\n",
      "\n",
      "<COMPLETEDIN::>1704.23\n"
     ]
    }
   ],
   "source": [
    "import codewars_test as test\n",
    "\n",
    "@test.describe(\"Fixed Tests\")\n",
    "def fixed_tests():\n",
    "    @test.it(\"Some tests for small length\")\n",
    "    def example_test_case():\n",
    "        test.assert_equals(find_lowest_int(325),477)\n",
    "        test.assert_equals(find_lowest_int(599),2394)\n",
    "        test.assert_equals(find_lowest_int(855), 999)\n",
    "        \n",
    "    @test.it(\"Some Edge Cases\")\n",
    "    def example_test_case(): \n",
    "        test.assert_equals(find_lowest_int(1),125874)\n",
    "        test.assert_equals(find_lowest_int(100),8919)\n",
    "        test.assert_equals(find_lowest_int(1000),89919)\n",
    "        test.assert_equals(find_lowest_int(10000),899919)"
   ]
  }
 ],
 "metadata": {
  "kernelspec": {
   "display_name": "Python 3",
   "language": "python",
   "name": "python3"
  },
  "language_info": {
   "codemirror_mode": {
    "name": "ipython",
    "version": 3
   },
   "file_extension": ".py",
   "mimetype": "text/x-python",
   "name": "python",
   "nbconvert_exporter": "python",
   "pygments_lexer": "ipython3",
   "version": "3.11.8"
  }
 },
 "nbformat": 4,
 "nbformat_minor": 2
}
