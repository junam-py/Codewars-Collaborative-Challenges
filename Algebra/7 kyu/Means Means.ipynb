{
 "cells": [
  {
   "cell_type": "markdown",
   "metadata": {},
   "source": [
    "# Mean Means\n",
    "Juan Manuel González Kapnik - just-juanma\n",
    "\n",
    "2024/02/25"
   ]
  },
  {
   "cell_type": "markdown",
   "metadata": {},
   "source": [
    "## Description\n",
    "Take a list of `n` numbers `a1, a2, a3, ..., aN` to start with.\n",
    "\n",
    "Arithmetic **mean** (or average) is the sum of these numbers divided by `n`.\n",
    "\n",
    "Geometric **mean** (or average) is the product of these numbers taken to the `n`th root.\n",
    "\n",
    "### Example\n",
    "\n",
    "List of numbers: `1, 3, 9, 27, 81`\n",
    "* `n = 5`\n",
    "* Arithmetic mean = `(1 + 3 + 9 + 27 + 81) / 5 = 121 / 5 = 24.2`\n",
    "* Geometric mean = `(1 * 3 * 9 * 27 * 81) ^ (1/5) = 59049 ^ (1/5) = 9`\n",
    "\n",
    "### Task\n",
    "\n",
    "You will be given a list of numbers and their arithmetic mean. **However, the list is missing one number**. Using this information, you must figure out and return the geometric mean of the FULL LIST, including the number that's missing."
   ]
  },
  {
   "cell_type": "markdown",
   "metadata": {},
   "source": [
    "## Explanation\n",
    "Based on the array and the missing value, we can define the arithmetic mean as:\n",
    "$$\\frac{(\\sum_{i=nums[0]}^n x_i)+missing}{n+1}=arith\\_mean$$\n",
    "Where n is the number of numbers in the array **excluding** the missing number\n",
    "\n",
    "We can do some clearing to find `missing`:\n",
    "$$(\\sum_{i=nums[0]}^n x_i)+missing=(n+1)*arith\\_mean \\to missing=(n+1)*arith\\_mean-(\\sum_{i=nums[0]}^n x_i)$$\n",
    "\n",
    "To find the geometric mean, we will then perform:\n",
    "$$((\\prod_{i=nums[0]}^n x_i) * missing)^\\frac{1}{n+1}=result$$"
   ]
  },
  {
   "cell_type": "markdown",
   "metadata": {},
   "source": [
    "## Solution"
   ]
  },
  {
   "cell_type": "code",
   "execution_count": 6,
   "metadata": {},
   "outputs": [],
   "source": [
    "def geo_mean(nums, arith_mean):\n",
    "    n = len(nums) + 1\n",
    "    missing = n * arith_mean  - sum(nums)\n",
    "    \n",
    "    product = 1\n",
    "    for num in nums:\n",
    "        product *= num\n",
    "    \n",
    "    return (product * missing) ** (1 / n)"
   ]
  },
  {
   "cell_type": "markdown",
   "metadata": {},
   "source": [
    "## Sample Test\n",
    "Paste the tests offered by the exercise, those that are not hidden"
   ]
  },
  {
   "cell_type": "code",
   "execution_count": 7,
   "metadata": {},
   "outputs": [
    {
     "name": "stdout",
     "output_type": "stream",
     "text": [
      "\n",
      "<DESCRIBE::>Fixed Tests\n",
      "\n",
      "<IT::>Basic Test Cases\n",
      "\n",
      "<PASSED::>Test Passed\n",
      "\n",
      "<PASSED::>Test Passed\n",
      "\n",
      "<PASSED::>Test Passed\n",
      "\n",
      "<COMPLETEDIN::>2.46\n",
      "\n",
      "<IT::>Mixed positive and negative floats:\n",
      "\n",
      "<PASSED::>Test Passed\n",
      "\n",
      "<PASSED::>Test Passed\n",
      "\n",
      "<PASSED::>Test Passed\n",
      "\n",
      "<COMPLETEDIN::>4.42\n",
      "\n",
      "<COMPLETEDIN::>10.77\n"
     ]
    }
   ],
   "source": [
    "import codewars_test as test\n",
    "\n",
    "@test.describe(\"Fixed Tests\")\n",
    "def fixed_tests():\n",
    "    @test.it('Basic Test Cases')\n",
    "    def basic_test_cases():\n",
    "        test.assert_approx_equals(geo_mean([2], 10), 6)\n",
    "        test.assert_approx_equals(geo_mean([1, 2], 3), 2.2894284851066637)\n",
    "        test.assert_approx_equals(geo_mean([4, 6, 7, 2], 5), 4.580344097847165)\n",
    "\n",
    "    r1 = geo_mean([-4,45,9], 6)\n",
    "    r2 = geo_mean([1,23,-2,8,6,35,-34,52], 10)\n",
    "    r3 = geo_mean([1,-3,3,6,5,52,130,-2,4,-5], 10)\n",
    "    \n",
    "    @test.it(\"Mixed positive and negative floats:\")\n",
    "    def _():\n",
    "        test.assert_approx_equals(r1, 14.325905783504401)\n",
    "        test.assert_approx_equals(r2, 8.015856437398835)\n",
    "        test.assert_approx_equals(r3, 7.7330442855597)"
   ]
  }
 ],
 "metadata": {
  "kernelspec": {
   "display_name": "Python 3",
   "language": "python",
   "name": "python3"
  },
  "language_info": {
   "codemirror_mode": {
    "name": "ipython",
    "version": 3
   },
   "file_extension": ".py",
   "mimetype": "text/x-python",
   "name": "python",
   "nbconvert_exporter": "python",
   "pygments_lexer": "ipython3",
   "version": "3.11.8"
  }
 },
 "nbformat": 4,
 "nbformat_minor": 2
}
