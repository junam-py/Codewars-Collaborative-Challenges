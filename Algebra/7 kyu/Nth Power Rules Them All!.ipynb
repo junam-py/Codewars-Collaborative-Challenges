{
 "cells": [
  {
   "cell_type": "markdown",
   "metadata": {},
   "source": [
    "# Nth Power Rules Them All!\n",
    "Juan Manuel González Kapnik - just-juanma\n",
    "\n",
    "2024/02/23"
   ]
  },
  {
   "cell_type": "markdown",
   "metadata": {},
   "source": [
    "## Description\n",
    "You are provided with an array of positive integers and an additional integer `n` `(n > 1)`.\n",
    "\n",
    "Calculate the sum of each value in the array to the `n`th power. Then subtract the sum of the original array.\n",
    "\n",
    "```\n",
    "{1, 2, 3}, 3  -->  (1^3 + 2^3 + 3^3 ) - (1 + 2 + 3)  -->  36 - 6  -->  30\n",
    "{1, 2}, 5     -->  (1^5 + 2^5) - (1 + 2)             -->  33 - 3  -->  30\n",
    "```"
   ]
  },
  {
   "cell_type": "markdown",
   "metadata": {},
   "source": [
    "## Explanation\n",
    "No explanation is required for this exercise. First we will raise to the n, then we will add. Finally, we will subtract the sum that nu was raised"
   ]
  },
  {
   "cell_type": "markdown",
   "metadata": {},
   "source": [
    "## Solution"
   ]
  },
  {
   "cell_type": "code",
   "execution_count": 2,
   "metadata": {},
   "outputs": [],
   "source": [
    "def modified_sum(a, n):\n",
    "    pow_sum = sum([num ** n for num in a])\n",
    "    return pow_sum - sum(a)"
   ]
  },
  {
   "cell_type": "markdown",
   "metadata": {},
   "source": [
    "## Sample Test\n",
    "Paste the tests offered by the exercise, those that are not hidden"
   ]
  },
  {
   "cell_type": "code",
   "execution_count": 3,
   "metadata": {},
   "outputs": [
    {
     "name": "stdout",
     "output_type": "stream",
     "text": [
      "\n",
      "<DESCRIBE::>Basic Tests\n",
      "\n",
      "<IT::>\n",
      "\n",
      "<PASSED::>Test Passed\n",
      "\n",
      "<PASSED::>Test Passed\n",
      "\n",
      "<COMPLETEDIN::>5.20\n",
      "\n",
      "<COMPLETEDIN::>7.39\n"
     ]
    }
   ],
   "source": [
    "import codewars_test as test # cmd: pip install git+https://github.com/codewars/python-test-framework.git#egg=codewars_test\n",
    "\n",
    "@test.describe(\"Basic Tests\")\n",
    "def basic():\n",
    "    @test.it(\"\")\n",
    "    def f():\n",
    "       test.assert_equals(modified_sum([1, 2, 3], 3), 30)\n",
    "       test.assert_equals(modified_sum([1, 2], 5), 30)"
   ]
  }
 ],
 "metadata": {
  "kernelspec": {
   "display_name": "Python 3",
   "language": "python",
   "name": "python3"
  },
  "language_info": {
   "codemirror_mode": {
    "name": "ipython",
    "version": 3
   },
   "file_extension": ".py",
   "mimetype": "text/x-python",
   "name": "python",
   "nbconvert_exporter": "python",
   "pygments_lexer": "ipython3",
   "version": "3.11.8"
  }
 },
 "nbformat": 4,
 "nbformat_minor": 2
}
