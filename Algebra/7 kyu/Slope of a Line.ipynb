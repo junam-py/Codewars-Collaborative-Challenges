{
 "cells": [
  {
   "cell_type": "markdown",
   "metadata": {},
   "source": [
    "# Slope of a Line\n",
    "Juan Manuel González Kapnik - just-juanma\n",
    "\n",
    "2024/02/27"
   ]
  },
  {
   "cell_type": "markdown",
   "metadata": {},
   "source": [
    "## Description\n",
    "**Task**\n",
    "\n",
    "Your challenge is to write a function named `getSlope`/`get_slope`/`GetSlope` that calculates the slope of the line through two points.\n",
    "\n",
    "**Input**\n",
    "\n",
    "Each point that the function takes in is an array 2 elements long. The first number is the x coordinate and the second number is the y coordinate. If the line through the two points is vertical or if the same point is given twice, the function should return `null`/`None`."
   ]
  },
  {
   "cell_type": "markdown",
   "metadata": {},
   "source": [
    "## Explanation\n",
    "The formula for calculating the slope is:\n",
    "$$m=\\frac{\\triangle y}{\\triangle x}=\\frac{y_2-y_1}{x_2-x_1}$$\n",
    "\n",
    "We should check that \n",
    "$$x_2-x_1 \\neq 0$$"
   ]
  },
  {
   "cell_type": "markdown",
   "metadata": {},
   "source": [
    "## Solution"
   ]
  },
  {
   "cell_type": "code",
   "execution_count": 1,
   "metadata": {},
   "outputs": [],
   "source": [
    "def get_slope(p1, p2):\n",
    "    if p2[0] - p1[0] == 0:\n",
    "        return None\n",
    "    return (p2[1] - p1[1]) / (p2[0] - p1[0])"
   ]
  },
  {
   "cell_type": "markdown",
   "metadata": {},
   "source": [
    "## Sample Test\n",
    "Paste the tests offered by the exercise, those that are not hidden"
   ]
  },
  {
   "cell_type": "code",
   "execution_count": 2,
   "metadata": {},
   "outputs": [
    {
     "name": "stdout",
     "output_type": "stream",
     "text": [
      "\n",
      "<DESCRIBE::>sample_tests\n",
      "\n",
      "<IT::>Should calculate the existing non-zero between 2 points\n",
      "\n",
      "<PASSED::>Test Passed\n",
      "\n",
      "<PASSED::>Test Passed\n",
      "\n",
      "<COMPLETEDIN::>3.35\n",
      "\n",
      "<IT::>Should return None if the line passing through the points is vertical\n",
      "\n",
      "<PASSED::>Test Passed\n",
      "\n",
      "<COMPLETEDIN::>0.51\n",
      "\n",
      "<IT::>Should return None if the same point is given twice\n",
      "\n",
      "<PASSED::>Test Passed\n",
      "\n",
      "<COMPLETEDIN::>1.46\n",
      "\n",
      "<COMPLETEDIN::>11.07\n"
     ]
    }
   ],
   "source": [
    "import codewars_test as test\n",
    "\n",
    "@test.describe(\"sample_tests\")\n",
    "def sample_tests():\n",
    "\n",
    "\t@test.it(\"Should calculate the existing non-zero between 2 points\")\n",
    "\tdef test_1():\n",
    "\t\ttest.assert_equals(get_slope([1,1],[2,2]), 1, \"Incorrect Slope\")\n",
    "\t\ttest.assert_equals(get_slope([11,1],[1,11]), -1, \"Incorrect Slope\")\n",
    "\n",
    "\t@test.it(\"Should return None if the line passing through the points is vertical\")\n",
    "\tdef test_2():\n",
    "\t\ttest.assert_equals(get_slope([1,1],[1,2]), None, \"Incorrect Slope\")\n",
    "\n",
    "\t@test.it(\"Should return None if the same point is given twice\")\n",
    "\tdef test_3():\n",
    "\t\ttest.assert_equals(get_slope([1,1],[1,1]), None, \"Incorrect Slope\")"
   ]
  }
 ],
 "metadata": {
  "kernelspec": {
   "display_name": "Python 3",
   "language": "python",
   "name": "python3"
  },
  "language_info": {
   "codemirror_mode": {
    "name": "ipython",
    "version": 3
   },
   "file_extension": ".py",
   "mimetype": "text/x-python",
   "name": "python",
   "nbconvert_exporter": "python",
   "pygments_lexer": "ipython3",
   "version": "3.11.8"
  }
 },
 "nbformat": 4,
 "nbformat_minor": 2
}
