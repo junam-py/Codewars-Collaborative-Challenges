{
 "cells": [
  {
   "cell_type": "markdown",
   "metadata": {},
   "source": [
    "# Differential Averaging\n",
    "Juan Manuel González Kapnik - just-juanma\n",
    "\n",
    "2024/02/29"
   ]
  },
  {
   "cell_type": "markdown",
   "metadata": {},
   "source": [
    "## Description\n",
    "Say you have a ratings system. People can rate a page, and the average is displayed on the page for everyone to see.\n",
    "\n",
    "One way of storing such a running average is to keep the the current average as well as the total rating that all users have submitted and with how many people rated it, so that the average can be calculated and updated when a new rating has been made.\n",
    "\n",
    "There are a couple of minor problems with this: first, you're keeping 3 columns instead of 1, which isn't ideal. Second is, if you're not careful, the number could get too large and get less and less accurate as the data format tries to keep up.\n",
    "\n",
    "So what you need to do is this: write a function that takes the `current` average, the current number of ratings (data `points`) made, and a new value to `add` to the average; then return the new value. That way, you only need 2 columns in your database, and the number will not get crazy large over time.\n",
    "\n",
    "To be clear:\n",
    "```\n",
    "current = 0.5\n",
    "points = 2\n",
    "add = 1\n",
    "\n",
    "--> 0.6666666666666666666666666666666666 // (2/3)\n",
    "```\n",
    "There are also plenty of examples in the example tests."
   ]
  },
  {
   "cell_type": "markdown",
   "metadata": {},
   "source": [
    "## Explanation\n",
    "We can define the total current as:\n",
    "$$\\frac{total \\ current}{points}=current\\to total \\ current = points*current$$\n",
    "Now that we have the previous total, we have to add the new value to it:\n",
    "$$total \\ current + add=total\\to points*current+add$$\n",
    "And we will divide by the $number\\ of\\ points + 1$ (since we are adding a new point):\n",
    "$$\\frac{points*current+add}{points+1} = new\\ average"
   ]
  },
  {
   "cell_type": "markdown",
   "metadata": {},
   "source": [
    "## Solution"
   ]
  },
  {
   "cell_type": "code",
   "execution_count": 22,
   "metadata": {},
   "outputs": [],
   "source": [
    "def add_to_average(current, points, add): \n",
    "    return (current * points + add) / (points + 1)"
   ]
  },
  {
   "cell_type": "markdown",
   "metadata": {},
   "source": [
    "## Sample Test\n",
    "Paste the tests offered by the exercise, those that are not hidden"
   ]
  },
  {
   "cell_type": "code",
   "execution_count": 23,
   "metadata": {},
   "outputs": [
    {
     "name": "stdout",
     "output_type": "stream",
     "text": [
      "\n",
      "<DESCRIBE::>Example Tests\n",
      "\n",
      "<PASSED::>Test Passed\n",
      "\n",
      "<PASSED::>Test Passed\n",
      "\n",
      "<PASSED::>Test Passed\n",
      "\n",
      "<PASSED::>Test Passed\n",
      "\n",
      "<PASSED::>Test Passed\n",
      "\n",
      "<PASSED::>Test Passed\n",
      "\n",
      "<COMPLETEDIN::>3.48\n"
     ]
    }
   ],
   "source": [
    "import codewars_test as test\n",
    "\n",
    "@test.describe('Example Tests')\n",
    "def example_tests():\n",
    "    test.assert_approx_equals(add_to_average(0, 0, 1), 1, message=\"average of [1]\")\n",
    "    test.assert_approx_equals(add_to_average(1, 1, 2), 1.5, message=\"average of [1, 2]\")\n",
    "    test.assert_approx_equals(add_to_average(1.5, 2, 3), 2, message=\"average of [1, 2, 3]\")\n",
    "    \n",
    "    test.assert_approx_equals(add_to_average(0, 0, 123), 123, message=\"average of [123]\")\n",
    "    test.assert_approx_equals(add_to_average(123, 1, 456), 289.5, message=\"average [123, 456]\")\n",
    "    test.assert_approx_equals(add_to_average(289.5, 2, 789), 456, message=\"average [123, 456, 789]\")"
   ]
  }
 ],
 "metadata": {
  "kernelspec": {
   "display_name": "Python 3",
   "language": "python",
   "name": "python3"
  },
  "language_info": {
   "codemirror_mode": {
    "name": "ipython",
    "version": 3
   },
   "file_extension": ".py",
   "mimetype": "text/x-python",
   "name": "python",
   "nbconvert_exporter": "python",
   "pygments_lexer": "ipython3",
   "version": "3.11.8"
  }
 },
 "nbformat": 4,
 "nbformat_minor": 2
}
