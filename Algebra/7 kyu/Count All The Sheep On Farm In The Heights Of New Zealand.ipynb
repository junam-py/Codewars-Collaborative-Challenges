{
 "cells": [
  {
   "cell_type": "markdown",
   "metadata": {},
   "source": [
    "# Count All The Sheep On Farm In The Heights Of New Zealand\n",
    "Juan Manuel González Kapnik - just-juanma\n",
    "\n",
    "2024/02/24"
   ]
  },
  {
   "cell_type": "markdown",
   "metadata": {},
   "source": [
    "## Description\n",
    "Every Friday and Saturday night, farmer counts amount of sheep returned back to his farm (sheep returned on Friday stay and don't leave for a weekend).\n",
    "\n",
    "Sheep return in groups each of the days -> you will be given two arrays with these numbers (one for Friday and one for Saturday night). Entries are always positive ints, higher than zero.\n",
    "\n",
    "Farmer knows the total amount of sheep, this is a third parameter. You need to return the amount of sheep lost (not returned to the farm) after final sheep counting on Saturday.\n",
    "\n",
    "Example 1: Input: {1, 2}, {3, 4}, 15 --> Output: 5\n",
    "\n",
    "Example 2: Input: {3, 1, 2}, {4, 5}, 21 --> Output: 6\n",
    "\n",
    "Good luck! :-)"
   ]
  },
  {
   "cell_type": "markdown",
   "metadata": {},
   "source": [
    "## Explanation\n",
    "The output will be calculated as:\n",
    "$$total - (total_{fri} + total_{sat}) = out$$"
   ]
  },
  {
   "cell_type": "markdown",
   "metadata": {},
   "source": [
    "## Solution"
   ]
  },
  {
   "cell_type": "code",
   "execution_count": 3,
   "metadata": {},
   "outputs": [],
   "source": [
    "def lost_sheep(friday, saturday, total):\n",
    "    return total - (sum(friday) + sum(saturday))"
   ]
  },
  {
   "cell_type": "markdown",
   "metadata": {},
   "source": [
    "## Sample Test\n",
    "Paste the tests offered by the exercise, those that are not hidden"
   ]
  },
  {
   "cell_type": "code",
   "execution_count": 4,
   "metadata": {},
   "outputs": [
    {
     "name": "stdout",
     "output_type": "stream",
     "text": [
      "\n",
      "<DESCRIBE::>Fixed Tests\n",
      "\n",
      "<IT::>Basic Tests\n",
      "\n",
      "<PASSED::>Test Passed\n",
      "\n",
      "<PASSED::>Test Passed\n",
      "\n",
      "<PASSED::>Test Passed\n",
      "\n",
      "<COMPLETEDIN::>1.48\n",
      "\n",
      "<COMPLETEDIN::>2.35\n"
     ]
    }
   ],
   "source": [
    "import codewars_test as test \n",
    "\n",
    "@test.describe(\"Fixed Tests\")\n",
    "def fixed_tests():\n",
    "    \n",
    "    @test.it(\"Basic Tests\")\n",
    "    def basic_tests():\n",
    "        test.assert_equals(lost_sheep([1,2],[3,4],15),5)\n",
    "        test.assert_equals(lost_sheep([3,1,2],[4,5],21),6)\n",
    "        test.assert_equals(lost_sheep([5,1,4],[5,4],29),10)"
   ]
  }
 ],
 "metadata": {
  "kernelspec": {
   "display_name": "Python 3",
   "language": "python",
   "name": "python3"
  },
  "language_info": {
   "codemirror_mode": {
    "name": "ipython",
    "version": 3
   },
   "file_extension": ".py",
   "mimetype": "text/x-python",
   "name": "python",
   "nbconvert_exporter": "python",
   "pygments_lexer": "ipython3",
   "version": "3.11.8"
  }
 },
 "nbformat": 4,
 "nbformat_minor": 2
}
