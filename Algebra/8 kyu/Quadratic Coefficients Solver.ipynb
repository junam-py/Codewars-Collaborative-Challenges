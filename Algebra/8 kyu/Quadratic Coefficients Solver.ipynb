{
 "cells": [
  {
   "cell_type": "markdown",
   "metadata": {},
   "source": [
    "In this Kata you are expected to find the coefficients of quadratic equation of the given two roots (`x1` and `x2`).\n",
    "\n",
    "Equation will be the form of `ax^2 + bx + c = 0`\n",
    "\n",
    "**Return type** is a Vector (tuple in Rust, Array in Ruby) containing coefficients of the equations in the order `(a, b, c)`.\n",
    "\n",
    "Since there are infinitely many solutions to this problem, we fix `a = 1`.\n",
    "\n",
    "Remember, the roots can be written like `(x-x1) * (x-x2) = 0`"
   ]
  },
  {
   "cell_type": "markdown",
   "metadata": {},
   "source": [
    "**Example**\n",
    "\n",
    "`quadratic(1,2) = (1, -3, 2)`\n",
    "\n",
    "This means `(x-1) * (x-2) = 0`; when we do the multiplication this becomes `x^2 - 3x + 2 = 0`\n",
    "\n",
    "**Example 2**\n",
    "\n",
    "`quadratic(0,1) = (1, -1, 0)`\n",
    "\n",
    "This means `(x-0) * (x-1) = 0`; when we do the multiplication this becomes `x^2 - x + 0 = 0`"
   ]
  },
  {
   "cell_type": "markdown",
   "metadata": {},
   "source": [
    "**Notes**\n",
    "\n",
    "* Inputs will be integers.\n",
    "\n",
    "* When x1 == x2, this means the root has the multiplicity of two"
   ]
  },
  {
   "cell_type": "markdown",
   "metadata": {},
   "source": [
    "Roots can be written as \n",
    "$$(x-x_1) * (x-x_2) = 0$$\n",
    "\n",
    "Applying the distributive property we are left with:\n",
    "$$x*x-x*x_2-x*x_1+x_1*x_2=0$$\n",
    "\n",
    "By definition of the slogan we know that $x^2=a=1$, then we could reduce the equation to:\n",
    "$$-x*x_2-x*x_1+x_1*x_2=0$$\n",
    "\n",
    "We can see that the constant term `c` is obtained by performing the following steps $x_1+x_1*x_2$, so:\n",
    "$$c=x_1*x_2$$\n",
    "\n",
    "We can reduce the equation again to:\n",
    "$$-x*x_2-x*x_1=0$$\n",
    "\n",
    "However, since we are working with coefficients, we can \"avoid\" working with `x`. Then, we can obtain that:\n",
    "$$b=-x_2-x_1$$\n",
    "\n",
    "The tuple will be as follows:\n",
    "$$(a, b, c) = (1, -x_2-x_1, x_1*x_2)$$"
   ]
  },
  {
   "cell_type": "code",
   "execution_count": 2,
   "metadata": {},
   "outputs": [],
   "source": [
    "def quadratic(x1, x2):\n",
    "    return (1,-x2 - x1, x1 * x2)"
   ]
  },
  {
   "cell_type": "code",
   "execution_count": 5,
   "metadata": {},
   "outputs": [],
   "source": [
    "import codewars_test as test\n",
    "\n",
    "def basic():\n",
    "    @test.it(\"\")\n",
    "    def f():\n",
    "        test.assert_equals(quadratic(0,1), (1, -1, 0))\n",
    "        test.assert_equals(quadratic(4,9), (1, -13, 36))\n",
    "        test.assert_equals(quadratic(2,6), (1, -8, 12))\n",
    "        test.assert_equals(quadratic(-5,-4), (1, 9, 20))"
   ]
  }
 ],
 "metadata": {
  "kernelspec": {
   "display_name": "Python 3",
   "language": "python",
   "name": "python3"
  },
  "language_info": {
   "codemirror_mode": {
    "name": "ipython",
    "version": 3
   },
   "file_extension": ".py",
   "mimetype": "text/x-python",
   "name": "python",
   "nbconvert_exporter": "python",
   "pygments_lexer": "ipython3",
   "version": "3.11.8"
  }
 },
 "nbformat": 4,
 "nbformat_minor": 2
}
