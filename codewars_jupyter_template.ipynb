{
 "cells": [
  {
   "cell_type": "markdown",
   "metadata": {},
   "source": [
    "# Exercise Title\n",
    "Full Name - GitHub user\n",
    "\n",
    "yyyy/mm/dd"
   ]
  },
  {
   "cell_type": "markdown",
   "metadata": {},
   "source": [
    "## Description\n",
    "Exercise description: respect the markdown of the creator of the exercise!"
   ]
  },
  {
   "cell_type": "markdown",
   "metadata": {},
   "source": [
    "## Explanation\n",
    "A detailed explanation of how you thought the exercise was solved is mandatory"
   ]
  },
  {
   "cell_type": "markdown",
   "metadata": {},
   "source": [
    "## Solution"
   ]
  },
  {
   "cell_type": "code",
   "execution_count": 1,
   "metadata": {},
   "outputs": [],
   "source": [
    "def my_solution():\n",
    "    pass"
   ]
  },
  {
   "cell_type": "markdown",
   "metadata": {},
   "source": [
    "## Sample Test\n",
    "Paste the tests offered by the exercise, those that are not hidden"
   ]
  },
  {
   "cell_type": "code",
   "execution_count": 3,
   "metadata": {},
   "outputs": [
    {
     "name": "stdout",
     "output_type": "stream",
     "text": [
      "\n",
      "<DESCRIBE::>Basic Tests\n",
      "\n",
      "<IT::>\n",
      "\n",
      "<COMPLETEDIN::>0.00\n",
      "\n",
      "<COMPLETEDIN::>3.03\n"
     ]
    }
   ],
   "source": [
    "import codewars_test as test # cmd: pip install git+https://github.com/codewars/python-test-framework.git#egg=codewars_test\n",
    "\n",
    "@test.describe(\"Basic Tests\")\n",
    "def basic():\n",
    "    @test.it(\"\")\n",
    "    def f():\n",
    "        # test_1, ..., test_n\n",
    "        pass"
   ]
  }
 ],
 "metadata": {
  "kernelspec": {
   "display_name": "Python 3",
   "language": "python",
   "name": "python3"
  },
  "language_info": {
   "codemirror_mode": {
    "name": "ipython",
    "version": 3
   },
   "file_extension": ".py",
   "mimetype": "text/x-python",
   "name": "python",
   "nbconvert_exporter": "python",
   "pygments_lexer": "ipython3",
   "version": "3.11.8"
  }
 },
 "nbformat": 4,
 "nbformat_minor": 2
}
